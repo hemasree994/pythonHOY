{
  "nbformat": 4,
  "nbformat_minor": 0,
  "metadata": {
    "colab": {
      "provenance": [],
      "authorship_tag": "ABX9TyNq1GfntXgNH+/LeaPxkB2F"
    },
    "kernelspec": {
      "name": "python3",
      "display_name": "Python 3"
    },
    "language_info": {
      "name": "python"
    }
  },
  "cells": [
    {
      "cell_type": "markdown",
      "source": [
        "# **MANEJO DE EXCEPCIONES**"
      ],
      "metadata": {
        "id": "ThLSUFox3PSX"
      }
    },
    {
      "cell_type": "markdown",
      "source": [
        "Al programar en Python algunas veces podemos anticipar errores de ejecución, incluso en un programa sintáctica y lógicamente correcto, pueden llegar a haber errores causados por entrada de datos inválidos o inconsistencias predecibles.\n",
        "\n",
        "\n",
        "En Python, puedes usar los bloques `try` y `except` para manejar estos errores como excepciones.\n",
        "\n",
        "\n",
        "En este tutorial aprenderás la sintaxis básica de `try` y `except`. Después escribirás ejemplos simples, detectaras que puede salir mal y brindaras soluciones correctivas usando los bloques `try` y `except`.\n"
      ],
      "metadata": {
        "id": "34UMfTWp3eMO"
      }
    },
    {
      "cell_type": "markdown",
      "source": [
        "# **Sintaxis de Try y Except en Python**\n",
        "\n",
        "\n",
        "```\n",
        "try:\n",
        "\t# Codigo a ejecutar\n",
        "\t# Pero podria haber errores en este bloque\n",
        "    \n",
        "except <tipo de error>:\n",
        "\t# Haz esto para manejar la excepcion\n",
        "\t# El bloque except se ejecutara si el bloque try lanza un error\n",
        "    \n",
        "else:\n",
        "\t# Esto se ejecutara si el bloque try se ejecuta sin errores\n",
        "   \n",
        "finally:\n",
        "\t# Este bloque se ejecutara siempre\n",
        "\n",
        "\n",
        "```\n",
        "\n",
        "## **Veamos el uso de cada uno de estos bloques:**\n",
        "\n",
        "EL bloque `try` es el bloque con las sentencias que quieres ejecutar. Sin embargo, podrían llegar a haber errores de ejecución  y el bloque se dejará de ejecutarse.\n",
        "\n",
        "El bloque except se ejecutará cuando el bloque `try` falle debido a un error. Este bloque contiene sentencias que generalmente nos dan un contexto de lo que salió mal en el bloque `try`.\n",
        "\n",
        "Siempre deberías de mencionar el tipo de error que se espera, como una excepción dentro del bloque `except` dentro de <tipo de error> como lo muestra el ejemplo anterior.\n",
        "\n",
        "Podrías usar `except` sin especificar el <tipo de error>. Pero no es una práctica recomendable, ya que no estarás al tanto de los tipos de errores que puedan ocurrir.\n",
        "\n",
        "Cuando se ejecute el código dentro del bloque `try`, existe la posibilidad de que ocurran diferentes errores.\n"
      ],
      "metadata": {
        "id": "92OAkr_U4xFK"
      }
    },
    {
      "cell_type": "code",
      "source": [
        "num1 = int(input(\"Ingrese el primer número: \"))\n",
        "num2 = int(input(\"Ingrese el segundo número: \"))\n",
        "\n",
        "\n",
        "resultado = num1 / num2\n",
        "print(\"El resultado de la división es: \", resultado)"
      ],
      "metadata": {
        "colab": {
          "base_uri": "https://localhost:8080/"
        },
        "id": "fUZLr_jtC1wg",
        "outputId": "f6245e38-597a-489d-c4e0-25c5b34f44d0"
      },
      "execution_count": null,
      "outputs": [
        {
          "output_type": "stream",
          "name": "stdout",
          "text": [
            "Ingrese el primer número: 6\n",
            "Ingrese el segundo número: 5\n",
            "El resultado de la división es:  1.2\n"
          ]
        }
      ]
    },
    {
      "cell_type": "code",
      "source": [
        "num1 = int(input(\"Ingrese el primer número: \"))\n",
        "num2 = int(input(\"Ingrese el segundo número: \"))\n",
        "\n",
        "try:\n",
        "    resultado = num1 / num2\n",
        "    print(\"El resultado de la división es: \", resultado)\n",
        "except:\n",
        "    print(\"QUE PARTE DE NUMEROS NO ENTENDISTE \")"
      ],
      "metadata": {
        "colab": {
          "base_uri": "https://localhost:8080/"
        },
        "id": "W8aOWYlRDHz5",
        "outputId": "0eaeb4fb-2625-411c-e833-35ef2bcb9103"
      },
      "execution_count": null,
      "outputs": [
        {
          "output_type": "stream",
          "name": "stdout",
          "text": [
            "Ingrese el primer número: 4\n",
            "Ingrese el segundo número: 5\n",
            "El resultado de la división es:  0.8\n"
          ]
        }
      ]
    },
    {
      "cell_type": "markdown",
      "source": [
        "### El método `isdigit()` para verificar si un valor ingresado en una cadena es un entero. "
      ],
      "metadata": {
        "id": "Fw6g1oAtEmHF"
      }
    },
    {
      "cell_type": "code",
      "source": [
        "entrada = input(\"Ingrese un valor: \")\n",
        "\n",
        "if entrada.isdigit():\n",
        "    valor = int(entrada)\n",
        "else:\n",
        "    valor = 0\n",
        "\n",
        "print(\"El valor ingresado es:\", valor)\n"
      ],
      "metadata": {
        "id": "M6j47TwGEkkF"
      },
      "execution_count": null,
      "outputs": []
    },
    {
      "cell_type": "code",
      "source": [
        "dir(str)"
      ],
      "metadata": {
        "id": "KSL1gRwhE1v4"
      },
      "execution_count": null,
      "outputs": []
    },
    {
      "cell_type": "code",
      "source": [
        "num1 = int(input(\"Ingrese el primer número: \"))\n",
        "num2 = int(input(\"Ingrese el segundo número: \"))\n",
        "\n",
        "try:\n",
        "    resultado = num1 / num2\n",
        "    print(\"El resultado de la división es: \", resultado)\n",
        "except ZeroDivisionError:\n",
        "    print(\"Error: El segundo número no puede ser cero.\")\n"
      ],
      "metadata": {
        "colab": {
          "base_uri": "https://localhost:8080/"
        },
        "id": "fvtn56-M8zGO",
        "outputId": "8b4f26b7-9473-41dc-ad6f-33da98580f80"
      },
      "execution_count": null,
      "outputs": [
        {
          "output_type": "stream",
          "name": "stdout",
          "text": [
            "Ingrese el primer número: 1\n",
            "Ingrese el segundo número: 0\n",
            "Error: El segundo número no puede ser cero.\n"
          ]
        }
      ]
    },
    {
      "cell_type": "code",
      "source": [
        "num1 = input(\"Ingrese el primer número: \")\n",
        "num2 = input(\"Ingrese el segundo número: \")\n",
        "\n",
        "try:\n",
        "    resultado = int(num1) / int(num2)\n",
        "    print(\"El resultado de la división es: \", resultado)\n",
        "except ZeroDivisionError:\n",
        "    print(\"Error: El segundo número no puede ser cero.\")\n",
        "except ValueError:\n",
        "    print(\"Error: Los valores ingresados deben ser números enteros.\")\n"
      ],
      "metadata": {
        "colab": {
          "base_uri": "https://localhost:8080/"
        },
        "id": "SyRai5R881BI",
        "outputId": "4cef5b5b-ad6d-4d0b-b8d4-482955aabe58"
      },
      "execution_count": null,
      "outputs": [
        {
          "output_type": "stream",
          "name": "stdout",
          "text": [
            "Ingrese el primer número: 4\n",
            "Ingrese el segundo número: dfg\n",
            "Error: Los valores ingresados deben ser números enteros.\n"
          ]
        }
      ]
    },
    {
      "cell_type": "markdown",
      "source": [
        "# **EXCEPCIONES**\n",
        "\n",
        "**La cantidad exacta de excepciones predefinidas en Python puede variar según la versión del lenguaje, pero en la versión actual (Python 3.10), hay 68 excepciones predefinidas en la biblioteca estándar de Python. Sin embargo, también es posible definir excepciones personalizadas para manejar situaciones específicas en un programa.**"
      ],
      "metadata": {
        "id": "298U_fb2854P"
      }
    },
    {
      "cell_type": "markdown",
      "source": [
        "| Excepción         | Descripción                                                            |\n",
        "|-------------------|------------------------------------------------------------------------|\n",
        "| `AssertionError`   | Se levanta cuando una afirmación falla.                                  |\n",
        "| `AttributeError`   | Se levanta cuando un objeto no tiene un atributo válido.                 |\n",
        "| `EOFError`        | Se levanta cuando se encuentra el final inesperado de un archivo.       |\n",
        "| `Exception`        | La excepción base de la cual todas las demás excepciones son subclases. |\n",
        "| `FileNotFoundError` | Se levanta cuando un archivo o directorio no se encuentra.               |\n",
        "| `ImportError`      | Se levanta cuando un módulo no se puede importar.                         |\n",
        "| `IndexError`       | Se levanta cuando un índice está fuera de rango.                          |\n",
        "| `KeyError`         | Se levanta cuando una clave no se encuentra en un diccionario.           |\n",
        "| `KeyboardInterrupt`| Se levanta cuando el usuario presiona la tecla Ctrl+C.                   |\n",
        "| `MemoryError`      | Se levanta cuando Python se queda sin memoria.                            |\n",
        "| `NameError`        | Se levanta cuando se usa una variable no definida.                         |\n",
        "| `NotImplementedError` | Se levanta cuando se llama a una función que aún no se ha implementado. |\n",
        "| `OSError`          | Se levanta cuando ocurre un error del sistema operativo.                  |\n",
        "| `OverflowError`    | Se levanta cuando un cálculo produce un resultado demasiado grande.       |\n",
        "| `RecursionError`   | Se levanta cuando hay demasiadas llamadas recursivas.                     |\n",
        "| `RuntimeError`     | Se levanta cuando ocurre un error en tiempo de ejecución.                  |\n",
        "| `StopIteration`    | Se levanta cuando el iterador no tiene más elementos.                      |\n",
        "| `SyntaxError`      | Se levanta cuando hay un error de sintaxis en el código.                   |\n",
        "| `TabError`         | Se levanta cuando hay un error en la indentación del código.               |\n",
        "| `TypeError`        | Se levanta cuando se usa una variable con un tipo incorrecto.              |\n",
        "| `UnboundLocalError`| Se levanta cuando se intenta acceder a una variable local no inicializada.  |\n",
        "| `ValueError`       | Se levanta cuando una función recibe un argumento con valor incorrecto.    |\n",
        "| `ZeroDivisionError`| Se levanta cuando se intenta dividir por cero.                             |\n"
      ],
      "metadata": {
        "id": "VH51351uB7oo"
      }
    },
    {
      "cell_type": "markdown",
      "source": [
        "# **FUNCIONES INTEGRADAS BASICAS**\n",
        "| **Función** | **Descripción** | **Ejemplo** |\n",
        "|---------|-------------|---------|\n",
        "| `max()` | Encuentra el valor máximo en un objeto iterable. | `max([3, 5, 1, 8])` retorna `8` |\n",
        "| `sum()` | Encuentra la suma de los valores en un objeto iterable. | `sum([2, 4, 6])` retorna `12` |\n",
        "| `len()` | Encuentra la longitud de un objeto iterable. | `len('Hola')` retorna `4` |\n",
        "| `sorted()` | Ordena los elementos de un objeto iterable. | `sorted([5, 2, 9, 1])` retorna `[1, 2, 5, 9]` |\n",
        "| `any()` | Retorna `True` si cualquier elemento en un objeto iterable es verdadero. | `any([True, False, False])` retorna `True` |\n",
        "| `all()` | Retorna `True` si todos los elementos en un objeto iterable son verdaderos. | `all([True, True, False])` retorna `False` |\n",
        "| `abs()` | Retorna el valor absoluto de un número. | `abs(-5)` retorna `5` |\n",
        "| `round()` | Redondea un número a un número especificado de decimales. | `round(3.14159, 2)` retorna `3.14` |\n",
        "| `pow()` | Eleva un número a una potencia especificada. | `pow(2, 3)` retorna `8` |\n",
        "| `enumerate()` | Retorna una lista de tuplas que contienen el índice y el elemento de un objeto iterable. | `list(enumerate(['a', 'b', 'c']))` retorna `[(0, 'a'), (1, 'b'), (2, 'c')]` |\n",
        "| `zip()` | Combina dos o más objetos iterables en una lista de tuplas. | `list(zip([1, 2, 3], ['a', 'b', 'c']))` retorna `[(1, 'a'), (2, 'b'), (3, 'c')]` |\n",
        "| `reversed()` | Retorna una versión invertida de un objeto iterable. | `list(reversed([1, 2, 3]))` retorna `[3, 2, 1]` |\n",
        "| `filter()` | Retorna una lista que contiene los elementos de un objeto iterable | `list(filter(lambda x: x > 3, [1, 2, 3, 4, 5]))` retorna `[4, 5]` |\n",
        "||para los que una función especificada devuelve `True`.|||\n",
        "| `map()` | Retorna una lista que contiene los resultados de aplicar una función especificada  | `list(map(lambda x: x*2, [1, 2, 3]))` retorna `[2, 4, 6]` |\n",
        "||a cada elemento de un objeto iterable.|||\n",
        "| `range()` | Retorna una secuencia de números enteros. | `list(range(1, 5))` retorna `[1, 2, 3, 4]` |\n",
        "| `isinstance()` | Retorna `True` si un objeto es una instancia de una clase especificada. | `isinstance(5, int)` retorna `True` |\n",
        "| `type()` | Retorna el tipo de un objeto. | `type('Hola')` retorna `<class 'str'>` |\n",
        "| `dir()` | Retorna una lista de|       |\n",
        "| `help()` | Muestra la documentación de ayuda para un objeto o función. |     |\n"
      ],
      "metadata": {
        "id": "XaMe8kwDueJO"
      }
    },
    {
      "cell_type": "code",
      "execution_count": null,
      "metadata": {
        "colab": {
          "base_uri": "https://localhost:8080/"
        },
        "id": "1elN_f6Mr780",
        "outputId": "2666717c-754e-4ed8-d633-1210775a6d8e"
      },
      "outputs": [
        {
          "output_type": "stream",
          "name": "stdout",
          "text": [
            "Help on built-in function min in module builtins:\n",
            "\n",
            "min(...)\n",
            "    min(iterable, *[, default=obj, key=func]) -> value\n",
            "    min(arg1, arg2, *args, *[, key=func]) -> value\n",
            "    \n",
            "    With a single iterable argument, return its smallest item. The\n",
            "    default keyword-only argument specifies an object to return if\n",
            "    the provided iterable is empty.\n",
            "    With two or more arguments, return the smallest argument.\n",
            "\n"
          ]
        }
      ],
      "source": [
        "help(min)"
      ]
    },
    {
      "cell_type": "code",
      "source": [
        "dir(pow)"
      ],
      "metadata": {
        "id": "C-HEl0yxzJ7z"
      },
      "execution_count": null,
      "outputs": []
    }
  ]
}